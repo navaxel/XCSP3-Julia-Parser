{
 "cells": [
  {
   "attachments": {},
   "cell_type": "markdown",
   "metadata": {},
   "source": [
    "# Liste des problemes\n",
    "- Impossible d'importer le module standard \"LZMA\""
   ]
  },
  {
   "cell_type": "code",
   "execution_count": 1,
   "metadata": {},
   "outputs": [
    {
     "name": "stderr",
     "output_type": "stream",
     "text": [
      "\u001b[32m\u001b[1m  Activating\u001b[22m\u001b[39m project at `~/Documents/3A/Stage 3A/Project/XCSP3-Julia-Parser/venv`\n"
     ]
    },
    {
     "name": "stdout",
     "output_type": "stream",
     "text": [
      "\u001b[36m\u001b[1m     Project\u001b[22m\u001b[39m venv v0.1.0\n",
      "\u001b[32m\u001b[1m      Status\u001b[22m\u001b[39m `~/Documents/3A/Stage 3A/Project/XCSP3-Julia-Parser/venv/Project.toml`\n",
      " \u001b[90m [9c8b4983] \u001b[39mLightXML v0.9.0\n",
      " \u001b[90m [c13076dc] \u001b[39mSeaPearl v0.4.3\n",
      " \u001b[90m [72c71f33] \u001b[39mXML v0.2.0\n"
     ]
    }
   ],
   "source": [
    "using Pkg\n",
    "Pkg.activate(\"venv\")\n",
    "#Pkg.add(\"SeaPearl\")\n",
    "#Pkg.add(\"XML\")\n",
    "Pkg.status()"
   ]
  },
  {
   "cell_type": "markdown",
   "metadata": {},
   "source": [
    "# 1. Convert file"
   ]
  },
  {
   "cell_type": "code",
   "execution_count": 2,
   "metadata": {},
   "outputs": [
    {
     "ename": "LoadError",
     "evalue": "LoadError: ArgumentError: Package LZMA not found in current path:\n- Run `import Pkg; Pkg.add(\"LZMA\")` to install the LZMA package.\n\nin expression starting at /Users/axelnavarro/Documents/3A/Stage 3A/Project/XCSP3-Julia-Parser/src/utils/lzma_utils.jl:2",
     "output_type": "error",
     "traceback": [
      "LoadError: ArgumentError: Package LZMA not found in current path:\n",
      "- Run `import Pkg; Pkg.add(\"LZMA\")` to install the LZMA package.\n",
      "\n",
      "in expression starting at /Users/axelnavarro/Documents/3A/Stage 3A/Project/XCSP3-Julia-Parser/src/utils/lzma_utils.jl:2\n",
      "\n",
      "Stacktrace:\n",
      " [1] require(into::Module, mod::Symbol)\n",
      "   @ Base ./loading.jl:967\n",
      " [2] include(fname::String)\n",
      "   @ Base.MainInclude ./client.jl:451\n",
      " [3] top-level scope\n",
      "   @ ~/Documents/3A/Stage 3A/Project/XCSP3-Julia-Parser/test_julia.ipynb:1"
     ]
    }
   ],
   "source": [
    "include(\"src/utils/lzma_utils.jl\")\n",
    "\n",
    "file_name = \"Haystacks-ext-05_c18.xml\"\n",
    "\n",
    "lzma_root_dir = \"instancesXCSP22/lzma/MiniCSP/\"\n",
    "lzma_file_path = lzma_root_dir * file_name * \".lzma\"\n",
    "xml_root_dir = \"instancesXCSP22/xml/MiniCSP/\"\n",
    "\n",
    "convert_lzma_file_to_xml(lzma_file_path, xml_root_dir)"
   ]
  },
  {
   "cell_type": "markdown",
   "metadata": {},
   "source": [
    "# 2. Parsing"
   ]
  },
  {
   "cell_type": "code",
   "execution_count": 3,
   "metadata": {},
   "outputs": [
    {
     "data": {
      "text/plain": [
       "\u001b[90mNode \u001b[39m\u001b[92mElement\u001b[39m\u001b[96m <constraints\u001b[39m\u001b[96m>\u001b[39m\u001b[90m (5 children)\u001b[39m"
      ]
     },
     "metadata": {},
     "output_type": "display_data"
    }
   ],
   "source": [
    "using XML\n",
    "\n",
    "include(\"src/utils/xml_utils.jl\")\n",
    "\n",
    "file_name2 = \"CostasArray-15_mc22.xml\"\n",
    "file_name3 = \"NumberPartitioning-20_mc22.xml\"\n",
    "file_name4 = \"Haystacks-ext-05_c18.xml\"\n",
    "file_name5 = \"Hadamard-17_mc22.xml\"\n",
    "file_name6 = \"Eternity-06-06_mc22.xml\"\n",
    "file_name7 = \"Crypto1-0-64-0-0x3eb894e67055f622-19_c22.xml\"\n",
    "file_name8 = \"Crossword-m18-ogd2008-vg-04-05_c18.xml\"\n",
    "file_name9 = \"AircraftLanding-table-airland01_mc22.xml\"\n",
    "\n",
    "file_name = file_name3\n",
    "\n",
    "xml_root_dir = \"instancesXCSP22/xml/MiniCSP/\"\n",
    "\n",
    "file_path = xml_root_dir * file_name\n",
    "\n",
    "file = open(file_path)\n",
    "xml_string = read(file, String)\n",
    "close(file)\n",
    "\n",
    "# Parser le contenu du fichier XML\n",
    "doc = parse(xml_string)\n",
    "\n",
    "# Récupérer le noeud instance \n",
    "instance = find_element(doc, \"instance\")\n",
    "\n",
    "#Récupérer les noeuds variables et constraints\n",
    "variables = find_element(instance, \"variables\")\n",
    "constraints = find_element(instance, \"constraints\")"
   ]
  },
  {
   "cell_type": "markdown",
   "metadata": {},
   "source": [
    "## 2.1. Variables parsing"
   ]
  },
  {
   "cell_type": "code",
   "execution_count": 4,
   "metadata": {},
   "outputs": [
    {
     "name": "stderr",
     "output_type": "stream",
     "text": [
      "WARNING: redefinition of constant UNIT_FORMATS. This may fail, cause incorrect answers, or produce other errors.\n"
     ]
    },
    {
     "data": {
      "text/plain": [
       "sort_intervals (generic function with 1 method)"
      ]
     },
     "metadata": {},
     "output_type": "display_data"
    }
   ],
   "source": [
    "include(\"src/parsing/variables.jl\")"
   ]
  },
  {
   "cell_type": "code",
   "execution_count": 5,
   "metadata": {},
   "outputs": [],
   "source": [
    "using SeaPearl\n",
    "\n",
    "abstract type AbstractSeaPearlIntVar{T} end\n",
    "\n",
    "struct VectorSeaPearlIntVar{T} <: AbstractSeaPearlIntVar{T}\n",
    "    data::Vector{T}\n",
    "end\n",
    "\n",
    "struct MatrixSeaPearlIntVar{T} <: AbstractSeaPearlIntVar{T}\n",
    "    data::Matrix{T}\n",
    "end\n"
   ]
  },
  {
   "cell_type": "code",
   "execution_count": 6,
   "metadata": {},
   "outputs": [
    {
     "data": {
      "text/plain": [
       "Dict{String, Any}()"
      ]
     },
     "metadata": {},
     "output_type": "display_data"
    }
   ],
   "source": [
    "#Create model\n",
    "trailer = SeaPearl.Trailer()\n",
    "model = SeaPearl.CPModel(trailer)\n",
    "dict_var = Dict{String, Any}()"
   ]
  },
  {
   "cell_type": "code",
   "execution_count": 7,
   "metadata": {},
   "outputs": [],
   "source": [
    "for var in children(variables)\n",
    "    id = attributes(var)[\"id\"]\n",
    "    if var.tag == \"array\"\n",
    "        dict_var[id] = parse_array_variable(var, model, trailer)\n",
    "    end\n",
    "end"
   ]
  },
  {
   "cell_type": "code",
   "execution_count": 8,
   "metadata": {},
   "outputs": [
    {
     "data": {
      "text/plain": [
       "Dict{String, Any} with 3 entries:\n",
       "  \"aux_gb\" => SeaPearl.IntVar[aux_gb[0] = [1 2 3 4 5 6 7 8 9 10 11 12 13 14 15 …\n",
       "  \"x\"      => SeaPearl.IntVar[x[0] = [1 2 3 4 5 6 7 8 9 10 11 12 13 14 15 16 17…\n",
       "  \"y\"      => SeaPearl.IntVar[y[0] = [1 2 3 4 5 6 7 8 9 10 11 12 13 14 15 16 17…"
      ]
     },
     "metadata": {},
     "output_type": "display_data"
    }
   ],
   "source": [
    "dict_var"
   ]
  },
  {
   "attachments": {},
   "cell_type": "markdown",
   "metadata": {},
   "source": [
    "## 2.2. Constraints parsing"
   ]
  },
  {
   "cell_type": "code",
   "execution_count": 9,
   "metadata": {},
   "outputs": [
    {
     "data": {
      "text/plain": [
       "get_constraint_variables (generic function with 1 method)"
      ]
     },
     "metadata": {},
     "output_type": "display_data"
    }
   ],
   "source": [
    "include(\"src/parsing/constraints.jl\")"
   ]
  },
  {
   "cell_type": "code",
   "execution_count": 10,
   "metadata": {},
   "outputs": [
    {
     "name": "stdout",
     "output_type": "stream",
     "text": [
      "SeaPearl.Constraint[SeaPearl.AllDifferent: x[0] != x[1] != x[2] != x[3] != x[4] != x[5] != x[6] != x[7] != x[8] != x[9] != y[0] != y[1] != y[2] != y[3] != y[4] != y[5] != y[6] != y[7] != y[8] != y[9]]\n"
     ]
    }
   ],
   "source": [
    "for con in children(constraints)\n",
    "    parse_constraint(con, dict_var, model, trailer)\n",
    "    break\n",
    "end\n",
    "println(model.constraints)"
   ]
  },
  {
   "cell_type": "code",
   "execution_count": 44,
   "metadata": {},
   "outputs": [
    {
     "ename": "UndefVarError",
     "evalue": "UndefVarError: Less not defined",
     "output_type": "error",
     "traceback": [
      "UndefVarError: Less not defined\n",
      "\n",
      "Stacktrace:\n",
      " [1] getproperty(x::Module, f::Symbol)\n",
      "   @ Base ./Base.jl:35\n",
      " [2] top-level scope\n",
      "   @ ~/Documents/3A/Stage 3A/Project/XCSP3-Julia-Parser/test_julia.ipynb:16"
     ]
    }
   ],
   "source": [
    "using SeaPearl\n",
    "\n",
    "struct IntensionNode\n",
    "    operator::String\n",
    "    children::Vector{Any}\n",
    "end\n",
    "\n",
    "function replace_placeholders(string::String, args)\n",
    "    for (i, arg) in enumerate(args)\n",
    "        placeholder = \"%$(i-1)\"\n",
    "        string = replace(string, placeholder, string(arg))\n",
    "    end\n",
    "    return string\n",
    "end\n",
    "\n",
    "const relational_operators = Dict(\n",
    "    \"lt\" => SeaPearl.Less,\n",
    "    \"le\" => SeaPearl.LessOrEqual,\n",
    "    \"ge\" => SeaPearl.GreaterOrEqual,\n",
    "    \"gt\" => SeaPearl.Greater,\n",
    "    \"ne\" => SeaPearl.NotEqual,\n",
    "    \"eq\" => SeaPearl.Equal,\n",
    ")\n",
    "\n",
    "const arithmetic_operators = Dict(\n",
    "    \"add\" => SeaPearl.Addition,\n",
    "    \"sub\" => SeaPearl.Subtraction,\n",
    "    \"mul\" => SeaPearl.Multiplication,\n",
    "    \"div\" => SeaPearl.Division,\n",
    "    \"mod\" => SeaPearl.Modulo,\n",
    "    \"dist\" => SeaPearl.Distance,\n",
    ")\n"
   ]
  },
  {
   "cell_type": "code",
   "execution_count": 40,
   "metadata": {},
   "outputs": [
    {
     "data": {
      "text/plain": [
       "parse_intension_expression (generic function with 2 methods)"
      ]
     },
     "metadata": {},
     "output_type": "display_data"
    }
   ],
   "source": [
    "function parse_intension_expression(str_constraint, variables, model, trailer)\n",
    "    # Split the expression into operator and operands\n",
    "    spl = split(str_constraint, \"(\", limit=2)\n",
    "    operator = spl[1]\n",
    "\n",
    "    rel_bool = haskey(relational_operators, operator)\n",
    "    ari_bool = haskey(arithmetic_operators, operator)\n",
    "    if !(rel_bool || ari_bool)\n",
    "        # If the expression does not have any further parentheses, return it as a variable\n",
    "        var = get_constraint_variables(str_constraint, variables)\n",
    "        return var\n",
    "    end\n",
    "    operands_str = string(spl[2])[1:end-1]\n",
    "    # Recursively parse the operands\n",
    "    operands = []\n",
    "    start = 1\n",
    "    balance = 0\n",
    "    for i = 1:length(operands_str)\n",
    "        char = operands_str[i]\n",
    "        if char == '('\n",
    "            balance += 1\n",
    "        elseif char == ')'\n",
    "            balance -= 1\n",
    "        elseif char == ',' && balance == 0\n",
    "            var1 = parse_intension_expression(operands_str[start:i-1], variables, model, trailer)\n",
    "            start = i + 1\n",
    "            break\n",
    "        end\n",
    "    end\n",
    "    var2 = parse_intension_expression(operands_str[start:end], variables, model, trailer)\n",
    "\n",
    "    if rel_bool\n",
    "        model.addConstraint()\n",
    "        return nothing\n",
    "    else\n",
    "        return\n",
    "    end\n",
    "end\n"
   ]
  },
  {
   "cell_type": "code",
   "execution_count": 45,
   "metadata": {},
   "outputs": [
    {
     "data": {
      "text/plain": [
       "IntensionNode(\"eq\", Any[IntensionNode(\"mul\", Any[SeaPearl.IntVar[x[0] = [1 2 3 4 5 6 7 8 9 10 11 12 13 14 15 16 17 18 19 20]], SeaPearl.IntVar[x[0] = [1 2 3 4 5 6 7 8 9 10 11 12 13 14 15 16 17 18 19 20]]]), SeaPearl.IntVar[x[1] = [1 2 3 4 5 6 7 8 9 10 11 12 13 14 15 16 17 18 19 20]]])"
      ]
     },
     "metadata": {},
     "output_type": "display_data"
    }
   ],
   "source": [
    "str_constraint = \"eq(mul(x[0],x[0]),x[1])\"\n",
    "intension_node = parse_intension_expression(str_constraint, dict_var)\n"
   ]
  },
  {
   "cell_type": "code",
   "execution_count": null,
   "metadata": {},
   "outputs": [],
   "source": []
  }
 ],
 "metadata": {
  "kernelspec": {
   "display_name": "Julia 1.7.0",
   "language": "julia",
   "name": "julia-1.7"
  },
  "language_info": {
   "file_extension": ".jl",
   "mimetype": "application/julia",
   "name": "julia",
   "version": "1.7.0"
  },
  "orig_nbformat": 4
 },
 "nbformat": 4,
 "nbformat_minor": 2
}
