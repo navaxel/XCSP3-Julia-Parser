{
 "cells": [
  {
   "attachments": {},
   "cell_type": "markdown",
   "metadata": {},
   "source": [
    "# Liste des problemes\n",
    "- Impossible d'importer le module standard \"LZMA\""
   ]
  },
  {
   "cell_type": "code",
   "execution_count": 1,
   "metadata": {},
   "outputs": [
    {
     "name": "stderr",
     "output_type": "stream",
     "text": [
      "\u001b[32m\u001b[1m  Activating\u001b[22m\u001b[39m project at `~/Documents/3A/Stage 3A/Project/XCSP3-Julia-Parser/venv`\n"
     ]
    },
    {
     "name": "stdout",
     "output_type": "stream",
     "text": [
      "\u001b[36m\u001b[1m     Project\u001b[22m\u001b[39m venv v0.1.0\n",
      "\u001b[32m\u001b[1m      Status\u001b[22m\u001b[39m `~/Documents/3A/Stage 3A/Project/XCSP3-Julia-Parser/venv/Project.toml`\n",
      " \u001b[90m [9c8b4983] \u001b[39m"
     ]
    },
    {
     "name": "stdout",
     "output_type": "stream",
     "text": [
      "LightXML v0.9.0\n",
      " \u001b[90m [c13076dc] \u001b[39mSeaPearl v0.4.3\n",
      " \u001b[90m [72c71f33] \u001b[39mXML v0.2.0\n"
     ]
    }
   ],
   "source": [
    "using Pkg\n",
    "Pkg.activate(\"venv\")\n",
    "Pkg.status()"
   ]
  },
  {
   "cell_type": "markdown",
   "metadata": {},
   "source": [
    "# 1. Convert file"
   ]
  },
  {
   "cell_type": "code",
   "execution_count": 2,
   "metadata": {},
   "outputs": [
    {
     "ename": "LoadError",
     "evalue": "LoadError: ArgumentError: Package LZMA not found in current path:\n- Run `import Pkg; Pkg.add(\"LZMA\")` to install the LZMA package.\n\nin expression starting at /Users/axelnavarro/Documents/3A/Stage 3A/Project/XCSP3-Julia-Parser/src/utils/lzma_utils.jl:2",
     "output_type": "error",
     "traceback": [
      "LoadError: ArgumentError: Package LZMA not found in current path:\n",
      "- Run `import Pkg; Pkg.add(\"LZMA\")` to install the LZMA package.\n",
      "\n",
      "in expression starting at /Users/axelnavarro/Documents/3A/Stage 3A/Project/XCSP3-Julia-Parser/src/utils/lzma_utils.jl:2\n",
      "\n",
      "Stacktrace:\n",
      " [1] require(into::Module, mod::Symbol)\n",
      "   @ Base ./loading.jl:967\n",
      " [2] include(fname::String)\n",
      "   @ Base.MainInclude ./client.jl:451\n",
      " [3] top-level scope\n",
      "   @ ~/Documents/3A/Stage 3A/Project/XCSP3-Julia-Parser/test_julia.ipynb:1"
     ]
    }
   ],
   "source": [
    "include(\"src/utils/lzma_utils.jl\")\n",
    "\n",
    "file_name = \"Haystacks-ext-05_c18.xml\"\n",
    "\n",
    "lzma_root_dir = \"instancesXCSP22/lzma/MiniCSP/\"\n",
    "lzma_file_path = lzma_root_dir * file_name * \".lzma\"\n",
    "xml_root_dir = \"instancesXCSP22/xml/MiniCSP/\"\n",
    "\n",
    "convert_lzma_file_to_xml(lzma_file_path, xml_root_dir)"
   ]
  },
  {
   "cell_type": "markdown",
   "metadata": {},
   "source": [
    "# 2. Parsing"
   ]
  },
  {
   "cell_type": "code",
   "execution_count": 35,
   "metadata": {},
   "outputs": [
    {
     "data": {
      "text/plain": [
       "\u001b[90mNode \u001b[39m\u001b[92mElement\u001b[39m\u001b[96m <constraints\u001b[39m\u001b[96m>\u001b[39m\u001b[90m (4 children)\u001b[39m"
      ]
     },
     "metadata": {},
     "output_type": "display_data"
    }
   ],
   "source": [
    "using XML\n",
    "\n",
    "include(\"src/utils/xml_utils.jl\")\n",
    "\n",
    "file_name2 = \"CostasArray-15_mc22.xml\"\n",
    "file_name3 = \"NumberPartitioning-20_mc22.xml\"\n",
    "file_name4 = \"Haystacks-ext-05_c18.xml\"\n",
    "file_name5 = \"Hadamard-17_mc22.xml\"\n",
    "file_name6 = \"Eternity-06-06_mc22.xml\"\n",
    "file_name7 = \"Crypto1-0-64-0-0x3eb894e67055f622-19_c22.xml\"\n",
    "file_name8 = \"Crossword-m18-ogd2008-vg-04-05_c18.xml\"\n",
    "file_name9 = \"AircraftLanding-table-airland01_mc22.xml\"\n",
    "\n",
    "file_name = file_name5\n",
    "\n",
    "xml_root_dir = \"instancesXCSP22/xml/MiniCSP/\"\n",
    "\n",
    "file_path = xml_root_dir * file_name\n",
    "\n",
    "file = open(file_path)\n",
    "xml_string = read(file, String)\n",
    "close(file)\n",
    "\n",
    "# Parser le contenu du fichier XML\n",
    "doc = parse(xml_string)\n",
    "\n",
    "# Récupérer le noeud instance \n",
    "instance = find_element(doc, \"instance\")\n",
    "\n",
    "#Récupérer les noeuds variables et constraints\n",
    "variables = find_element(instance, \"variables\")\n",
    "constraints = find_element(instance, \"constraints\")"
   ]
  },
  {
   "cell_type": "markdown",
   "metadata": {},
   "source": [
    "## 2.1. Variables parsing"
   ]
  },
  {
   "cell_type": "code",
   "execution_count": 26,
   "metadata": {},
   "outputs": [
    {
     "data": {
      "text/plain": [
       "sort_intervals (generic function with 1 method)"
      ]
     },
     "metadata": {},
     "output_type": "display_data"
    }
   ],
   "source": [
    "include(\"src/parsing/variables.jl\")"
   ]
  },
  {
   "cell_type": "code",
   "execution_count": 27,
   "metadata": {},
   "outputs": [],
   "source": [
    "using SeaPearl\n",
    "\n",
    "abstract type AbstractSeaPearlIntVar{T} end\n",
    "\n",
    "struct VectorSeaPearlIntVar{T} <: AbstractSeaPearlIntVar{T}\n",
    "    data::Vector{T}\n",
    "end\n",
    "\n",
    "struct MatrixSeaPearlIntVar{T} <: AbstractSeaPearlIntVar{T}\n",
    "    data::Matrix{T}\n",
    "end\n"
   ]
  },
  {
   "cell_type": "code",
   "execution_count": 28,
   "metadata": {},
   "outputs": [
    {
     "data": {
      "text/plain": [
       "Dict{String, Any}()"
      ]
     },
     "metadata": {},
     "output_type": "display_data"
    }
   ],
   "source": [
    "#Create model\n",
    "trailer = SeaPearl.Trailer()\n",
    "model = SeaPearl.CPModel(trailer)\n",
    "dict_var = Dict{String, Any}()"
   ]
  },
  {
   "cell_type": "code",
   "execution_count": 29,
   "metadata": {},
   "outputs": [],
   "source": [
    "for var in children(variables)\n",
    "    id = attributes(var)[\"id\"]\n",
    "    if var.tag == \"array\"\n",
    "        dict_var[id] = parse_array_variable(var, model, trailer)\n",
    "    end\n",
    "end"
   ]
  },
  {
   "cell_type": "code",
   "execution_count": 32,
   "metadata": {},
   "outputs": [
    {
     "data": {
      "text/plain": [
       "SeaPearl.IntVar: x[0] = [1 2 3 4 5 6 7 8 9 10 11 12 13 14 15 16 17 18 19 20]"
      ]
     },
     "metadata": {},
     "output_type": "display_data"
    }
   ],
   "source": [
    "dict_var[\"x\"][1]"
   ]
  },
  {
   "attachments": {},
   "cell_type": "markdown",
   "metadata": {},
   "source": [
    "## 2.2. Constraints parsing"
   ]
  },
  {
   "cell_type": "code",
   "execution_count": 33,
   "metadata": {},
   "outputs": [
    {
     "data": {
      "text/plain": [
       "get_constraint_variables (generic function with 1 method)"
      ]
     },
     "metadata": {},
     "output_type": "display_data"
    }
   ],
   "source": [
    "include(\"src/parsing/constraints.jl\")"
   ]
  },
  {
   "cell_type": "code",
   "execution_count": 34,
   "metadata": {},
   "outputs": [
    {
     "name": "stdout",
     "output_type": "stream",
     "text": [
      "SeaPearl.Constraint[SeaPearl.AllDifferent: x[0] != x[1] != x[2] != x[3] != x[4] != x[5] != x[6] != x[7] != x[8] != x[9] != y[0] != y[1] != y[2] != y[3] != y[4] != y[5] != y[6] != y[7] != y[8] != y[9]]\n"
     ]
    }
   ],
   "source": [
    "for con in children(constraints)\n",
    "    parse_constraint(con, dict_var, model, trailer)\n",
    "    break\n",
    "end\n",
    "println(model.constraints)"
   ]
  },
  {
   "cell_type": "code",
   "execution_count": 11,
   "metadata": {},
   "outputs": [],
   "source": [
    "\"x[1..2][] y[]\""
   ]
  },
  {
   "cell_type": "code",
   "execution_count": 41,
   "metadata": {},
   "outputs": [
    {
     "data": {
      "text/plain": [
       "\u001b[90mNode \u001b[39m\u001b[92mElement\u001b[39m\u001b[96m <sum\u001b[39m\u001b[96m>\u001b[39m\u001b[90m (2 children)\u001b[39m"
      ]
     },
     "metadata": {},
     "output_type": "display_data"
    }
   ],
   "source": [
    "sum_con = children(constraints)[1]"
   ]
  },
  {
   "cell_type": "code",
   "execution_count": null,
   "metadata": {},
   "outputs": [],
   "source": [
    "czdciljzepiocjzepoqcjk"
   ]
  }
 ],
 "metadata": {
  "kernelspec": {
   "display_name": "Julia 1.7.0",
   "language": "julia",
   "name": "julia-1.7"
  },
  "language_info": {
   "file_extension": ".jl",
   "mimetype": "application/julia",
   "name": "julia",
   "version": "1.7.0"
  },
  "orig_nbformat": 4
 },
 "nbformat": 4,
 "nbformat_minor": 2
}
