{
 "cells": [
  {
   "attachments": {},
   "cell_type": "markdown",
   "metadata": {},
   "source": [
    "# Liste des problemes\n",
    "- Impossible d'importer le module standard \"LZMA\""
   ]
  },
  {
   "cell_type": "code",
   "execution_count": 5,
   "metadata": {},
   "outputs": [
    {
     "name": "stdout",
     "output_type": "stream",
     "text": [
      "\u001b[32m\u001b[1m      Status\u001b[22m\u001b[39m `~/Documents/CORAIL/SeaPearl/XCSP3-Julia-Parser/venv/Project.toml`\n",
      " \u001b[90m [9c8b4983] \u001b[39mLightXML v0.9.0\n",
      " \u001b[90m [c13076dc] \u001b[39mSeaPearl v0.4.3\n",
      " \u001b[90m [72c71f33] \u001b[39mXML v0.2.0\n"
     ]
    },
    {
     "name": "stderr",
     "output_type": "stream",
     "text": [
      "\u001b[32m\u001b[1m  Activating\u001b[22m\u001b[39m project at `~/Documents/CORAIL/SeaPearl/XCSP3-Julia-Parser/venv`\n"
     ]
    }
   ],
   "source": [
    "using Pkg\n",
    "Pkg.activate(\"venv\")\n",
    "# Pkg.add(\"LightXML\")\n",
    "# Pkg.add(\"SeaPearl\")\n",
    "# Pkg.add(name=\"XML\", version=\"0.2.0\")\n",
    "Pkg.status()"
   ]
  },
  {
   "cell_type": "markdown",
   "metadata": {},
   "source": [
    "# 1. Convert file"
   ]
  },
  {
   "cell_type": "code",
   "execution_count": 4,
   "metadata": {},
   "outputs": [
    {
     "ename": "LoadError",
     "evalue": "LoadError: ArgumentError: Package LZMA not found in current path:\n- Run `import Pkg; Pkg.add(\"LZMA\")` to install the LZMA package.\n\nin expression starting at /home/bourgeat/Documents/CORAIL/SeaPearl/XCSP3-Julia-Parser/src/utils/lzma_utils.jl:2",
     "output_type": "error",
     "traceback": [
      "LoadError: ArgumentError: Package LZMA not found in current path:\n",
      "- Run `import Pkg; Pkg.add(\"LZMA\")` to install the LZMA package.\n",
      "\n",
      "in expression starting at /home/bourgeat/Documents/CORAIL/SeaPearl/XCSP3-Julia-Parser/src/utils/lzma_utils.jl:2\n",
      "\n",
      "Stacktrace:\n",
      " [1] require(into::Module, mod::Symbol)\n",
      "   @ Base ./loading.jl:967\n",
      " [2] include(fname::String)\n",
      "   @ Base.MainInclude ./client.jl:451\n",
      " [3] top-level scope\n",
      "   @ ~/Documents/CORAIL/SeaPearl/XCSP3-Julia-Parser/test_julia.ipynb:1"
     ]
    }
   ],
   "source": [
    "include(\"src/utils/lzma_utils.jl\")\n",
    "\n",
    "file_name = \"Haystacks-ext-05_c18.xml\"\n",
    "lzma_root_dir = \"instancesXCSP22/lzma/MiniCSP/\"\n",
    "lzma_file_path = lzma_root_dir * file_name * \".lzma\"\n",
    "xml_root_dir = \"instancesXCSP22/xml/MiniCSP/\"\n",
    "\n",
    "convert_lzma_file_to_xml(lzma_file_path, xml_root_dir)"
   ]
  },
  {
   "cell_type": "markdown",
   "metadata": {},
   "source": [
    "# 2. Parsing"
   ]
  },
  {
   "cell_type": "code",
   "execution_count": 6,
   "metadata": {},
   "outputs": [
    {
     "data": {
      "text/plain": [
       "\u001b[90mNode \u001b[39m\u001b[92mElement\u001b[39m\u001b[96m <constraints\u001b[39m\u001b[96m>\u001b[39m\u001b[90m (4 children)\u001b[39m"
      ]
     },
     "metadata": {},
     "output_type": "display_data"
    }
   ],
   "source": [
    "using XML\n",
    "\n",
    "include(\"src/utils/xml_utils.jl\")\n",
    "\n",
    "file_name2 = \"CostasArray-15_mc22.xml\"\n",
    "file_name3 = \"NumberPartitioning-20_mc22.xml\"\n",
    "file_name4 = \"Haystacks-ext-05_c18.xml\"\n",
    "file_name5 = \"Hadamard-17_mc22.xml\"\n",
    "file_name6 = \"Eternity-06-06_mc22.xml\"\n",
    "file_name7 = \"Crypto1-0-64-0-0x3eb894e67055f622-19_c22.xml\"\n",
    "file_name8 = \"Crossword-m18-ogd2008-vg-04-05_c18.xml\"\n",
    "file_name9 = \"AircraftLanding-table-airland01_mc22.xml\"\n",
    "\n",
    "file_name = file_name5\n",
    "\n",
    "xml_root_dir = \"instancesXCSP22/xml/MiniCSP/\"\n",
    "\n",
    "file_path = xml_root_dir * file_name\n",
    "\n",
    "file = open(file_path)\n",
    "xml_string = read(file, String)\n",
    "close(file)\n",
    "\n",
    "# Parser le contenu du fichier XML\n",
    "doc = parse(xml_string)\n",
    "\n",
    "# Récupérer le noeud instance \n",
    "instance = find_element(doc, \"instance\")\n",
    "\n",
    "#Récupérer les noeuds variables et constraints\n",
    "variables = find_element(instance, \"variables\")\n",
    "constraints = find_element(instance, \"constraints\")"
   ]
  },
  {
   "cell_type": "markdown",
   "metadata": {},
   "source": [
    "## 2.1. Variables parsing"
   ]
  },
  {
   "cell_type": "code",
   "execution_count": 26,
   "metadata": {},
   "outputs": [
    {
     "data": {
      "text/plain": [
       "sort_intervals (generic function with 1 method)"
      ]
     },
     "metadata": {},
     "output_type": "display_data"
    }
   ],
   "source": [
    "include(\"src/parsing/variables.jl\")"
   ]
  },
  {
   "cell_type": "code",
   "execution_count": 7,
   "metadata": {},
   "outputs": [
    {
     "name": "stderr",
     "output_type": "stream",
     "text": [
      "WARNING: redefinition of constant UNIT_FORMATS. This may fail, cause incorrect answers, or produce other errors.\n"
     ]
    }
   ],
   "source": [
    "using SeaPearl\n",
    "\n",
    "abstract type AbstractSeaPearlIntVar{T} end\n",
    "\n",
    "struct VectorSeaPearlIntVar{T} <: AbstractSeaPearlIntVar{T}\n",
    "    data::Vector{T}\n",
    "end\n",
    "\n",
    "struct MatrixSeaPearlIntVar{T} <: AbstractSeaPearlIntVar{T}\n",
    "    data::Matrix{T}\n",
    "end\n"
   ]
  },
  {
   "cell_type": "code",
   "execution_count": 8,
   "metadata": {},
   "outputs": [
    {
     "data": {
      "text/plain": [
       "Dict{String, Any}()"
      ]
     },
     "metadata": {},
     "output_type": "display_data"
    }
   ],
   "source": [
    "#Create model\n",
    "trailer = SeaPearl.Trailer()\n",
    "model = SeaPearl.CPModel(trailer)\n",
    "dict_var = Dict{String, Any}()"
   ]
  },
  {
   "cell_type": "code",
   "execution_count": 29,
   "metadata": {},
   "outputs": [],
   "source": [
    "for var in children(variables)\n",
    "    id = attributes(var)[\"id\"]\n",
    "    if var.tag == \"array\"\n",
    "        dict_var[id] = parse_array_variable(var, model, trailer)\n",
    "    end\n",
    "end"
   ]
  },
  {
   "cell_type": "code",
   "execution_count": 32,
   "metadata": {},
   "outputs": [
    {
     "data": {
      "text/plain": [
       "SeaPearl.IntVar: x[0] = [1 2 3 4 5 6 7 8 9 10 11 12 13 14 15 16 17 18 19 20]"
      ]
     },
     "metadata": {},
     "output_type": "display_data"
    }
   ],
   "source": [
    "dict_var[\"x\"][1]"
   ]
  },
  {
   "attachments": {},
   "cell_type": "markdown",
   "metadata": {},
   "source": [
    "## 2.2. Constraints parsing"
   ]
  },
  {
   "cell_type": "code",
   "execution_count": 9,
   "metadata": {},
   "outputs": [
    {
     "data": {
      "text/plain": [
       "get_constraint_variables (generic function with 1 method)"
      ]
     },
     "metadata": {},
     "output_type": "display_data"
    }
   ],
   "source": [
    "include(\"src/parsing/constraints.jl\")"
   ]
  },
  {
   "cell_type": "code",
   "execution_count": 10,
   "metadata": {},
   "outputs": [
    {
     "name": "stdout",
     "output_type": "stream",
     "text": [
      "SeaPearl.Constraint[]\n"
     ]
    }
   ],
   "source": [
    "for con in children(constraints)\n",
    "    parse_constraint(con, dict_var, model, trailer)\n",
    "    break\n",
    "end\n",
    "println(model.constraints)"
   ]
  },
  {
   "cell_type": "code",
   "execution_count": 11,
   "metadata": {},
   "outputs": [],
   "source": [
    "\"x[1..2][] y[]\""
   ]
  },
  {
   "cell_type": "code",
   "execution_count": 11,
   "metadata": {},
   "outputs": [
    {
     "data": {
      "text/plain": [
       "\u001b[90mNode \u001b[39m\u001b[92mElement\u001b[39m\u001b[96m <sum\u001b[39m\u001b[96m>\u001b[39m\u001b[90m (2 children)\u001b[39m"
      ]
     },
     "metadata": {},
     "output_type": "display_data"
    }
   ],
   "source": [
    "sum_con = children(constraints)[1]"
   ]
  },
  {
   "cell_type": "code",
   "execution_count": null,
   "metadata": {},
   "outputs": [],
   "source": [
    "czdciljzepiocjzepoqcjk"
   ]
  },
  {
   "attachments": {},
   "cell_type": "markdown",
   "metadata": {},
   "source": [
    "# Parsing Sum constraint"
   ]
  },
  {
   "cell_type": "code",
   "execution_count": null,
   "metadata": {},
   "outputs": [],
   "source": [
    "relations = {lt,le,gt,ge,eq,ne} # lower than, lower or equal, greater than, greater or equal, equal, not equal"
   ]
  },
  {
   "cell_type": "code",
   "execution_count": 22,
   "metadata": {},
   "outputs": [
    {
     "name": "stdout",
     "output_type": "stream",
     "text": [
      "\u001b[90mNode \u001b[39m\u001b[92mElement\u001b[39m\u001b[96m <sum\u001b[39m\u001b[96m>\u001b[39m\u001b[90m (2 children)\u001b[39m\n",
      "--\u001b[90mNode \u001b[39m\u001b[92mElement\u001b[39m\u001b[96m <list\u001b[39m\u001b[96m>\u001b[39m\u001b[90m (1 child)\u001b[39m\n",
      "----\u001b[90mNode \u001b[39m\u001b[92mText\u001b[39m\u001b[0m \"x[]\"\n",
      "--\u001b[90mNode \u001b[39m\u001b[92mElement\u001b[39m\u001b[96m <condition\u001b[39m\u001b[96m>\u001b[39m\u001b[90m (1 child)\u001b[39m\n",
      "----\u001b[90mNode \u001b[39m\u001b[92mText\u001b[39m\u001b[0m \"(eq,1)\"\n",
      "\u001b[90mNode \u001b[39m\u001b[92mElement\u001b[39m\u001b[96m <sum\u001b[39m\u001b[96m>\u001b[39m\u001b[90m (2 children)\u001b[39m\n",
      "--\u001b[90mNode \u001b[39m\u001b[92mElement\u001b[39m\u001b[96m <list\u001b[39m\u001b[96m>\u001b[39m\u001b[90m (1 child)\u001b[39m\n",
      "----\u001b[90mNode \u001b[39m\u001b[92mText\u001b[39m\u001b[0m \"y[]\"\n",
      "--\u001b[90mNode \u001b[39m\u001b[92mElement\u001b[39m\u001b[96m <condition\u001b[39m\u001b[96m>\u001b[39m\u001b[90m (1 child)\u001b[39m\n",
      "----\u001b[90mNode \u001b[39m\u001b[92mText\u001b[39m\u001b[0m \"(eq,1)\"\n"
     ]
    }
   ],
   "source": [
    "sum_con = children(constraints)\n",
    "for con_node in sum_con\n",
    "    if con_node.tag == \"sum\"\n",
    "        println(con_node)\n",
    "        for e in children(con_node)\n",
    "            println(\"--\", e)\n",
    "            for ee in children(e)\n",
    "                println(\"----\", ee)\n",
    "            end\n",
    "        end\n",
    "    end\n",
    "end\n"
   ]
  },
  {
   "cell_type": "code",
   "execution_count": 46,
   "metadata": {},
   "outputs": [
    {
     "ename": "ErrorException",
     "evalue": "type Nothing has no field captures",
     "output_type": "error",
     "traceback": [
      "type Nothing has no field captures\n",
      "\n",
      "Stacktrace:\n",
      " [1] getproperty\n",
      "   @ ./Base.jl:42 [inlined]\n",
      " [2] get_relation_sum_constraint(constraint::Node)\n",
      "   @ Main ~/Documents/CORAIL/SeaPearl/XCSP3-Julia-Parser/test_julia.ipynb:19\n",
      " [3] top-level scope\n",
      "   @ ~/Documents/CORAIL/SeaPearl/XCSP3-Julia-Parser/test_julia.ipynb:40"
     ]
    }
   ],
   "source": [
    "# Comme c'est utilisé dans la fonction parsing peut être qu'il y a une boucle for en trop (celle avant e chack de sum)\n",
    "\n",
    "function get_relation_sum_constraint(constraint::Node)\n",
    "    relation_list = [] #String()\n",
    "    value_list = [] #Array{Int}()\n",
    "\n",
    "    sum_con = children(constraints)\n",
    "    for con_node in sum_con\n",
    "        if con_node.tag == \"sum\"\n",
    "            for con_node_2 in children(con_node)\n",
    "                if con_node_2.tag == \"condition\"\n",
    "                    for con_node_3 in children(con_node_2)\n",
    "                        con_node_3_str = con_node_3.value\n",
    "\n",
    "                        # test # \n",
    "                        con_node_3_str = \"(in ,2..5)\"\n",
    "                        # test #\n",
    "                        \n",
    "                        relation = match(r\"\\((\\w+),(\\d+)\\)\", con_node_3_str).captures[1]\n",
    "                        if relation != in\n",
    "                            value = parse(Int, match(r\"\\((\\w+),(\\d+)\\)\", con_node_3_str).captures[2])\n",
    "                            value = [value]\n",
    "                        else\n",
    "                            min_value, max_value = parse.(Int, split(match(r\"\\((\\w+),(\\d+\\.\\.\\d+)\\)\", con_node_3_str).captures[2], \"..\"))\n",
    "                            value = [min_value, max_value]\n",
    "                        end\n",
    "                        push!(relation_list, relation)\n",
    "                        push!(value_list, value)\n",
    "                    end\n",
    "                end\n",
    "            end\n",
    "        end\n",
    "    end\n",
    "\n",
    "    return relation_list, value_list\n",
    "end\n",
    "\n",
    "relation, value = get_relation_sum_constraint(constraints)\n",
    "println(relation)\n",
    "println(value)"
   ]
  },
  {
   "cell_type": "code",
   "execution_count": null,
   "metadata": {},
   "outputs": [],
   "source": [
    "function parse_constraint(constraint::Node, variables::Dict{String, Any}, model::SeaPearl.CPModel, trailer::SeaPearl.Trailer)\n",
    "    tag = constraint.tag\n",
    "\n",
    "    if tag == \"sum\"\n",
    "        str_constraint_variables = children(constraint)[1].value\n",
    "        sum_vars = get_constraint_variables(str_constraint_variables, variables)\n",
    "        relations, value = get_relation_sum_constraint(constraint) # 'value' is an array (one per sum constraints) of an array with 1 value in the general case \n",
    "                                                                   # and 2 value in case of relation operand 'in'\n",
    "        \n",
    "        if relation == \"lt\":\n",
    "            con = con = SeaPearl.SumLessThan(sum_vars, value[1]-1, trailer)\n",
    "            SeaPearl.addConstraint!(model, con)\n",
    "\n",
    "        else if relation == \"le\":\n",
    "            con = SeaPearl.SumLessThan(sum_vars, value[1], trailer)\n",
    "            SeaPearl.addConstraint!(model, con)\n",
    "\n",
    "        else if relation == \"gt\":\n",
    "            con = con = SeaPearl.SumGreaterThan(sum_vars, value[1]+1, trailer)\n",
    "            SeaPearl.addConstraint!(model, con)\n",
    "\n",
    "        else if relation == \"ge\":\n",
    "            con = SeaPearl.SumGreaterThan(sum_vars, value[1], trailer)\n",
    "            SeaPearl.addConstraint!(model, con)\n",
    "\n",
    "        else if relation == \"eq\":\n",
    "            # add a variable y, add the constraint \"y == v\" (equal.jl),\n",
    "            # add the constraint \"sum_vars == y\"\n",
    "            y = SeaPearl.IntVar\n",
    "            con_y = SeaPearl.EqualConstant(y, value[1], trailer)\n",
    "            con_sum = SeaPearl.SumToVariable(sum_vars, y, trailer)\n",
    "            SeaPearl.addConstraint!(model, con_y)\n",
    "            SeaPearl.addConstraint!(model, con_sum)\n",
    "\n",
    "        else if relation == \"ne\":\n",
    "            # add the variable y, add the constraint \"y != v\" (notequal.jl),\n",
    "            # add the constraint \"sum_vars == y\"\n",
    "            y = SeaPearl.IntVar\n",
    "            con_y = SeaPearl.NotEqualConstant(y, value[1], trailer)\n",
    "            con_sum = SeaPearl.SumToVariable(sum_vars, y, trailer)\n",
    "            SeaPearl.addConstraint!(model, con_y)\n",
    "            SeaPearl.addConstraint!(model, con_sum)\n",
    "\n",
    "        else if relation == \"in\":\n",
    "            con_greater = SeaPearl.SumGreaterThan(sum_vars, value[1], trailer)\n",
    "            con_less = SeaPearl.SumLessThan(sum_vars, value[2], trailer)\n",
    "            SeaPearl.addConstraint!(model, con_greater)\n",
    "            SeaPearl.addConstraint!(model, con_less)\n",
    "\n",
    "        else:\n",
    "            error(\"Unknown relation\")\n",
    "        end\n",
    "    end\n",
    "end\n",
    "\n",
    "# TODO : penser à faire le cas où on a des groupes de variables au lieu d'une liste"
   ]
  }
 ],
 "metadata": {
  "kernelspec": {
   "display_name": "Julia 1.7.0",
   "language": "julia",
   "name": "julia-1.7"
  },
  "language_info": {
   "file_extension": ".jl",
   "mimetype": "application/julia",
   "name": "julia",
   "version": "1.7.0"
  },
  "orig_nbformat": 4
 },
 "nbformat": 4,
 "nbformat_minor": 2
}
